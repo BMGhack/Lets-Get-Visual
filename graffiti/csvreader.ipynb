{
 "cells": [
  {
   "cell_type": "markdown",
   "metadata": {},
   "source": [
    "# Python CSV Reader\n",
    "\n",
    "The [pandas notebook](pandas.ipynb) is a better approach. This is a lower level approach that is kept around as a point of reference. "
   ]
  },
  {
   "cell_type": "markdown",
   "metadata": {},
   "source": [
    "## Read Data\n",
    "\n",
    "https://docs.python.org/3/library/csv.html\n"
   ]
  },
  {
   "cell_type": "code",
   "execution_count": 1,
   "metadata": {},
   "outputs": [
    {
     "name": "stdout",
     "output_type": "stream",
     "text": [
      "﻿_id, ticket_id, enteredDate, lastModified, closedDate, status, contactMethod, category, description, department, location, city, state, zip, latitude, longitude\n",
      "1, 124433, 2011-11-29T23:18:14, 2016-09-11T22:02:05, 2012-06-08T14:09:47, closed, Phone Call, Graffiti, wall of Framemakers building had white spray paint on wall and door, , 314 W Kirkwood AVE, Bloomington, IN, 47404, 39.16685104370117, -86.53697204589844\n"
     ]
    }
   ],
   "source": [
    "import csv\n",
    "with open('c0bf9039-7736-4ea5-8191-cdf821f304f5.csv', 'r') as csvfile:\n",
    "    reader = csv.reader(csvfile, delimiter=',')\n",
    "    count = 0 \n",
    "    for row in reader:\n",
    "        # first two rows is enough to show it's working\n",
    "        if count < 2:\n",
    "            print(', '.join(row))\n",
    "        count += 1"
   ]
  },
  {
   "cell_type": "markdown",
   "metadata": {},
   "source": [
    "Now that we know we can read the data, let's parse it. In this case there are only ~800 rows... we can store that in memory:"
   ]
  },
  {
   "cell_type": "code",
   "execution_count": 2,
   "metadata": {},
   "outputs": [
    {
     "name": "stdout",
     "output_type": "stream",
     "text": [
      "{'\\ufeff_id': '1', 'ticket_id': '124433', 'enteredDate': '2011-11-29T23:18:14', 'lastModified': '2016-09-11T22:02:05', 'closedDate': '2012-06-08T14:09:47', 'status': 'closed', 'contactMethod': 'Phone Call', 'category': 'Graffiti', 'description': 'wall of Framemakers building had white spray paint on wall and door', 'department': '', 'location': '314 W Kirkwood AVE', 'city': 'Bloomington', 'state': 'IN', 'zip': '47404', 'latitude': '39.16685104370117', 'longitude': '-86.53697204589844'}\n"
     ]
    }
   ],
   "source": [
    "reports = []\n",
    "\n",
    "with open('c0bf9039-7736-4ea5-8191-cdf821f304f5.csv', 'r') as csvfile:\n",
    "    reader = csv.reader(csvfile, delimiter=',')\n",
    "    # eliminate blank rows if they exist\n",
    "    rows = [row for row in reader if row]\n",
    "    header = rows[0]\n",
    "\n",
    "    for row in rows[1:]:\n",
    "        # print(row)\n",
    "        current_report = {}\n",
    "        for col_header, data_column in zip(header, row):\n",
    "            # print(col_header, data_column)\n",
    "            current_report[col_header] = data_column\n",
    "        \n",
    "        reports.append(current_report)\n",
    "\n",
    "print(reports[0])"
   ]
  },
  {
   "cell_type": "markdown",
   "metadata": {},
   "source": [
    "# Show On Map\n",
    "\n",
    "Now that we have data read in, we can show it on a map (geospatially). If using pipenv, ipyleaflet should have been installed with `pipenv install`  \n",
    "\n",
    "https://github.com/jupyter-widgets/ipyleaflet\n",
    "https://ipyleaflet.readthedocs.io/en/latest/\n",
    "\n",
    "In this case, all rows have a lat/long associated with them. If they did not, we would need to geocode those addresses. `geopy` would help with this:\n",
    "\n",
    "https://towardsdatascience.com/geocode-with-python-161ec1e62b89"
   ]
  },
  {
   "cell_type": "code",
   "execution_count": 3,
   "metadata": {},
   "outputs": [
    {
     "data": {
      "application/vnd.jupyter.widget-view+json": {
       "model_id": "d6683d27bfdc44e49fd778a974de811a",
       "version_major": 2,
       "version_minor": 0
      },
      "text/plain": [
       "Map(center=[39.16685104370117, -86.53697204589844], controls=(ZoomControl(options=['position', 'zoom_in_text',…"
      ]
     },
     "metadata": {},
     "output_type": "display_data"
    }
   ],
   "source": [
    "from ipyleaflet import Map, Marker\n",
    "\n",
    "center = (39.16685104370117, -86.53697204589844)\n",
    "\n",
    "m = Map(center=center, zoom=15)\n",
    "\n",
    "for r in reports:\n",
    "    marker = Marker(location=(r['latitude'], r['longitude']), draggable=False)\n",
    "    m.add_layer(marker)\n",
    "    \n",
    "display(m)"
   ]
  },
  {
   "cell_type": "markdown",
   "metadata": {},
   "source": []
  }
 ],
 "metadata": {
  "kernelspec": {
   "display_name": "Python 3",
   "language": "python",
   "name": "python3"
  },
  "language_info": {
   "codemirror_mode": {
    "name": "ipython",
    "version": 3
   },
   "file_extension": ".py",
   "mimetype": "text/x-python",
   "name": "python",
   "nbconvert_exporter": "python",
   "pygments_lexer": "ipython3",
   "version": "3.7.5"
  }
 },
 "nbformat": 4,
 "nbformat_minor": 4
}
